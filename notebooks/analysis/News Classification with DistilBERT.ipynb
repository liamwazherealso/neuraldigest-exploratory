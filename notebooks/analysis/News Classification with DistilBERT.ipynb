{
 "cells": [
  {
   "cell_type": "code",
   "execution_count": 2,
   "id": "15697efe-52ea-43a2-be51-fe606900c382",
   "metadata": {},
   "outputs": [],
   "source": [
    "import pandas as pd\n",
    "\n",
    "from sklearn.model_selection import train_test_split\n",
    "from sklearn.preprocessing import OneHotEncoder"
   ]
  },
  {
   "cell_type": "markdown",
   "id": "ef1dd432-abe1-48b2-8d24-af915b50f66a",
   "metadata": {},
   "source": [
    "Acknowledgement\n",
    "https://www.kaggle.com/code/vbmokin/nlp-for-en-bert-cls-10-classifiers"
   ]
  },
  {
   "cell_type": "code",
   "execution_count": 3,
   "id": "9070144f-9668-44f9-b4c9-5d83650dc573",
   "metadata": {},
   "outputs": [
    {
     "name": "stderr",
     "output_type": "stream",
     "text": [
      "/Users/lpieri/mambaforge/envs/news-ml-exploratory/lib/python3.10/site-packages/tqdm/auto.py:22: TqdmWarning: IProgress not found. Please update jupyter and ipywidgets. See https://ipywidgets.readthedocs.io/en/stable/user_install.html\n",
      "  from .autonotebook import tqdm as notebook_tqdm\n"
     ]
    }
   ],
   "source": [
    "import numpy as np\n",
    "import pandas as pd\n",
    "\n",
    "import matplotlib\n",
    "import matplotlib.pyplot as plt\n",
    "\n",
    "from sklearn.model_selection import train_test_split\n",
    "from sklearn.linear_model import LogisticRegression\n",
    "from sklearn.model_selection import GridSearchCV\n",
    "from sklearn.model_selection import cross_val_score\n",
    "from sklearn.metrics import accuracy_score\n",
    "\n",
    "# models\n",
    "from sklearn.linear_model import LinearRegression, Perceptron, RidgeClassifier, SGDClassifier, LassoCV\n",
    "from sklearn.svm import SVC, LinearSVC, SVR\n",
    "from sklearn.ensemble import RandomForestClassifier, GradientBoostingClassifier, ExtraTreesClassifier \n",
    "from sklearn.ensemble import BaggingClassifier, AdaBoostClassifier, VotingClassifier\n",
    "from sklearn.ensemble import RandomForestClassifier\n",
    "from sklearn.naive_bayes import GaussianNB\n",
    "from sklearn.neighbors import KNeighborsClassifier\n",
    "from sklearn.gaussian_process import GaussianProcessClassifier\n",
    "from sklearn.neural_network import MLPClassifier\n",
    "from sklearn.tree import DecisionTreeClassifier, plot_tree\n",
    "from sklearn import metrics\n",
    "import xgboost as xgb\n",
    "from xgboost import XGBClassifier\n",
    "\n",
    "\n",
    "# NN models\n",
    "from tensorflow import keras\n",
    "from keras.models import Sequential\n",
    "from keras.layers import Dense\n",
    "from keras import optimizers\n",
    "from keras.wrappers.scikit_learn import KerasClassifier\n",
    "\n",
    "import torch\n",
    "import transformers as ppb\n",
    "\n",
    "import warnings\n",
    "warnings.filterwarnings('ignore')\n"
   ]
  },
  {
   "cell_type": "code",
   "execution_count": 4,
   "id": "4304d0f0-3d1a-4836-a17a-c45099f0f7da",
   "metadata": {},
   "outputs": [],
   "source": [
    "df = pd.read_pickle('../../data/raw/raw.p')"
   ]
  },
  {
   "cell_type": "code",
   "execution_count": 5,
   "id": "3e9180c5-16bb-469a-a634-1f82bc1eed4c",
   "metadata": {},
   "outputs": [
    {
     "data": {
      "text/html": [
       "<div>\n",
       "<style scoped>\n",
       "    .dataframe tbody tr th:only-of-type {\n",
       "        vertical-align: middle;\n",
       "    }\n",
       "\n",
       "    .dataframe tbody tr th {\n",
       "        vertical-align: top;\n",
       "    }\n",
       "\n",
       "    .dataframe thead th {\n",
       "        text-align: right;\n",
       "    }\n",
       "</style>\n",
       "<table border=\"1\" class=\"dataframe\">\n",
       "  <thead>\n",
       "    <tr style=\"text-align: right;\">\n",
       "      <th></th>\n",
       "      <th>title</th>\n",
       "      <th>description</th>\n",
       "      <th>published date</th>\n",
       "      <th>url</th>\n",
       "      <th>publisher</th>\n",
       "      <th>text</th>\n",
       "      <th>topic</th>\n",
       "    </tr>\n",
       "  </thead>\n",
       "  <tbody>\n",
       "    <tr>\n",
       "      <th>0</th>\n",
       "      <td>Plight of homeless deepens as Turkey-Syria ear...</td>\n",
       "      <td>Plight of homeless deepens as Turkey-Syria ear...</td>\n",
       "      <td>Thu, 09 Feb 2023 12:23:00 GMT</td>\n",
       "      <td>https://news.google.com/rss/articles/CBMiaGh0d...</td>\n",
       "      <td>{'href': 'https://www.reuters.com', 'title': '...</td>\n",
       "      <td>Summary\\n\\nSummary Companies Death toll reache...</td>\n",
       "      <td>WORLD</td>\n",
       "    </tr>\n",
       "    <tr>\n",
       "      <th>1</th>\n",
       "      <td>Zelenskyy makes heartfelt call for Ukraine's E...</td>\n",
       "      <td>Zelenskyy makes heartfelt call for Ukraine's E...</td>\n",
       "      <td>Thu, 09 Feb 2023 14:55:00 GMT</td>\n",
       "      <td>https://news.google.com/rss/articles/CBMiQGh0d...</td>\n",
       "      <td>{'href': 'https://www.cnbc.com', 'title': 'CNBC'}</td>\n",
       "      <td>Ukrainian President Volodymyr Zelensky and Pre...</td>\n",
       "      <td>WORLD</td>\n",
       "    </tr>\n",
       "    <tr>\n",
       "      <th>2</th>\n",
       "      <td>Huge haul of cocaine floating at sea seized - CNN</td>\n",
       "      <td>Huge haul of cocaine floating at sea seized  C...</td>\n",
       "      <td>Thu, 09 Feb 2023 11:17:00 GMT</td>\n",
       "      <td>https://news.google.com/rss/articles/CBMiUGh0d...</td>\n",
       "      <td>{'href': 'https://www.cnn.com', 'title': 'CNN'}</td>\n",
       "      <td>CNN —\\n\\nMore than 3 tons of cocaine floating ...</td>\n",
       "      <td>WORLD</td>\n",
       "    </tr>\n",
       "    <tr>\n",
       "      <th>3</th>\n",
       "      <td>5 things to know for February 9: Earthquake, C...</td>\n",
       "      <td>5 things to know for February 9: Earthquake, C...</td>\n",
       "      <td>Thu, 09 Feb 2023 11:53:00 GMT</td>\n",
       "      <td>https://news.google.com/rss/articles/CBMiSGh0d...</td>\n",
       "      <td>{'href': 'https://www.cnn.com', 'title': 'CNN'}</td>\n",
       "      <td>CNN —\\n\\nGet '5 Things' in your inbox If your ...</td>\n",
       "      <td>WORLD</td>\n",
       "    </tr>\n",
       "    <tr>\n",
       "      <th>4</th>\n",
       "      <td>Kremlin Endorses Report on U.S. Involvement in...</td>\n",
       "      <td>Kremlin Endorses Report on U.S. Involvement in...</td>\n",
       "      <td>Thu, 09 Feb 2023 11:36:32 GMT</td>\n",
       "      <td>https://news.google.com/rss/articles/CBMicmh0d...</td>\n",
       "      <td>{'href': 'https://www.themoscowtimes.com', 'ti...</td>\n",
       "      <td>The Kremlin on Thursday endorsed a blog post b...</td>\n",
       "      <td>WORLD</td>\n",
       "    </tr>\n",
       "  </tbody>\n",
       "</table>\n",
       "</div>"
      ],
      "text/plain": [
       "                                               title  \\\n",
       "0  Plight of homeless deepens as Turkey-Syria ear...   \n",
       "1  Zelenskyy makes heartfelt call for Ukraine's E...   \n",
       "2  Huge haul of cocaine floating at sea seized - CNN   \n",
       "3  5 things to know for February 9: Earthquake, C...   \n",
       "4  Kremlin Endorses Report on U.S. Involvement in...   \n",
       "\n",
       "                                         description  \\\n",
       "0  Plight of homeless deepens as Turkey-Syria ear...   \n",
       "1  Zelenskyy makes heartfelt call for Ukraine's E...   \n",
       "2  Huge haul of cocaine floating at sea seized  C...   \n",
       "3  5 things to know for February 9: Earthquake, C...   \n",
       "4  Kremlin Endorses Report on U.S. Involvement in...   \n",
       "\n",
       "                  published date  \\\n",
       "0  Thu, 09 Feb 2023 12:23:00 GMT   \n",
       "1  Thu, 09 Feb 2023 14:55:00 GMT   \n",
       "2  Thu, 09 Feb 2023 11:17:00 GMT   \n",
       "3  Thu, 09 Feb 2023 11:53:00 GMT   \n",
       "4  Thu, 09 Feb 2023 11:36:32 GMT   \n",
       "\n",
       "                                                 url  \\\n",
       "0  https://news.google.com/rss/articles/CBMiaGh0d...   \n",
       "1  https://news.google.com/rss/articles/CBMiQGh0d...   \n",
       "2  https://news.google.com/rss/articles/CBMiUGh0d...   \n",
       "3  https://news.google.com/rss/articles/CBMiSGh0d...   \n",
       "4  https://news.google.com/rss/articles/CBMicmh0d...   \n",
       "\n",
       "                                           publisher  \\\n",
       "0  {'href': 'https://www.reuters.com', 'title': '...   \n",
       "1  {'href': 'https://www.cnbc.com', 'title': 'CNBC'}   \n",
       "2    {'href': 'https://www.cnn.com', 'title': 'CNN'}   \n",
       "3    {'href': 'https://www.cnn.com', 'title': 'CNN'}   \n",
       "4  {'href': 'https://www.themoscowtimes.com', 'ti...   \n",
       "\n",
       "                                                text  topic  \n",
       "0  Summary\\n\\nSummary Companies Death toll reache...  WORLD  \n",
       "1  Ukrainian President Volodymyr Zelensky and Pre...  WORLD  \n",
       "2  CNN —\\n\\nMore than 3 tons of cocaine floating ...  WORLD  \n",
       "3  CNN —\\n\\nGet '5 Things' in your inbox If your ...  WORLD  \n",
       "4  The Kremlin on Thursday endorsed a blog post b...  WORLD  "
      ]
     },
     "execution_count": 5,
     "metadata": {},
     "output_type": "execute_result"
    }
   ],
   "source": [
    "df.head()"
   ]
  },
  {
   "cell_type": "markdown",
   "id": "1edb6a69-4aa5-42b1-af85-fa6578ee3667",
   "metadata": {},
   "source": [
    "# Category Distribution"
   ]
  },
  {
   "cell_type": "code",
   "execution_count": 6,
   "id": "8f10540f-f759-4848-8321-054d4142eb70",
   "metadata": {},
   "outputs": [
    {
     "data": {
      "text/plain": [
       "ENTERTAINMENT    490\n",
       "NATION           470\n",
       "TECHNOLOGY       454\n",
       "BUSINESS         437\n",
       "HEALTH           404\n",
       "WORLD            391\n",
       "SCIENCE          388\n",
       "Name: topic, dtype: int64"
      ]
     },
     "execution_count": 6,
     "metadata": {},
     "output_type": "execute_result"
    }
   ],
   "source": [
    "df.topic.value_counts()"
   ]
  },
  {
   "cell_type": "markdown",
   "id": "c7192f7d-feee-4655-a7ac-08e8513c7838",
   "metadata": {},
   "source": [
    "Luckily a pretty even distribution especially given the nature of the scraper. The scraper gets denied on certain website.\n",
    "\n",
    "# ML Task\n",
    "\n",
    "Train a classifier for the categories."
   ]
  },
  {
   "cell_type": "code",
   "execution_count": 7,
   "id": "54c38e64-b35e-42e6-a847-e69ebac75a21",
   "metadata": {},
   "outputs": [],
   "source": [
    "df = df[['topic', 'text']]\n",
    "# Manual OneHotEncoding because sklearns was taking me a bit.\n",
    "for topic in df.topic.unique():\n",
    "    df.loc[:,topic] = (df.topic == topic).astype(int)\n",
    "    \n",
    "    \n",
    "df.drop(['topic'], axis=1, inplace=True)"
   ]
  },
  {
   "cell_type": "code",
   "execution_count": 8,
   "id": "1af20bfc-9fa1-446b-883e-c6b4923c544f",
   "metadata": {},
   "outputs": [
    {
     "data": {
      "text/html": [
       "<div>\n",
       "<style scoped>\n",
       "    .dataframe tbody tr th:only-of-type {\n",
       "        vertical-align: middle;\n",
       "    }\n",
       "\n",
       "    .dataframe tbody tr th {\n",
       "        vertical-align: top;\n",
       "    }\n",
       "\n",
       "    .dataframe thead th {\n",
       "        text-align: right;\n",
       "    }\n",
       "</style>\n",
       "<table border=\"1\" class=\"dataframe\">\n",
       "  <thead>\n",
       "    <tr style=\"text-align: right;\">\n",
       "      <th></th>\n",
       "      <th>text</th>\n",
       "      <th>WORLD</th>\n",
       "      <th>NATION</th>\n",
       "      <th>BUSINESS</th>\n",
       "      <th>TECHNOLOGY</th>\n",
       "      <th>ENTERTAINMENT</th>\n",
       "      <th>SCIENCE</th>\n",
       "      <th>HEALTH</th>\n",
       "    </tr>\n",
       "  </thead>\n",
       "  <tbody>\n",
       "    <tr>\n",
       "      <th>0</th>\n",
       "      <td>Summary\\n\\nSummary Companies Death toll reache...</td>\n",
       "      <td>1</td>\n",
       "      <td>0</td>\n",
       "      <td>0</td>\n",
       "      <td>0</td>\n",
       "      <td>0</td>\n",
       "      <td>0</td>\n",
       "      <td>0</td>\n",
       "    </tr>\n",
       "    <tr>\n",
       "      <th>1</th>\n",
       "      <td>Ukrainian President Volodymyr Zelensky and Pre...</td>\n",
       "      <td>1</td>\n",
       "      <td>0</td>\n",
       "      <td>0</td>\n",
       "      <td>0</td>\n",
       "      <td>0</td>\n",
       "      <td>0</td>\n",
       "      <td>0</td>\n",
       "    </tr>\n",
       "    <tr>\n",
       "      <th>2</th>\n",
       "      <td>CNN —\\n\\nMore than 3 tons of cocaine floating ...</td>\n",
       "      <td>1</td>\n",
       "      <td>0</td>\n",
       "      <td>0</td>\n",
       "      <td>0</td>\n",
       "      <td>0</td>\n",
       "      <td>0</td>\n",
       "      <td>0</td>\n",
       "    </tr>\n",
       "    <tr>\n",
       "      <th>3</th>\n",
       "      <td>CNN —\\n\\nGet '5 Things' in your inbox If your ...</td>\n",
       "      <td>1</td>\n",
       "      <td>0</td>\n",
       "      <td>0</td>\n",
       "      <td>0</td>\n",
       "      <td>0</td>\n",
       "      <td>0</td>\n",
       "      <td>0</td>\n",
       "    </tr>\n",
       "    <tr>\n",
       "      <th>4</th>\n",
       "      <td>The Kremlin on Thursday endorsed a blog post b...</td>\n",
       "      <td>1</td>\n",
       "      <td>0</td>\n",
       "      <td>0</td>\n",
       "      <td>0</td>\n",
       "      <td>0</td>\n",
       "      <td>0</td>\n",
       "      <td>0</td>\n",
       "    </tr>\n",
       "    <tr>\n",
       "      <th>...</th>\n",
       "      <td>...</td>\n",
       "      <td>...</td>\n",
       "      <td>...</td>\n",
       "      <td>...</td>\n",
       "      <td>...</td>\n",
       "      <td>...</td>\n",
       "      <td>...</td>\n",
       "      <td>...</td>\n",
       "    </tr>\n",
       "    <tr>\n",
       "      <th>3029</th>\n",
       "      <td>Listen Comment on this story Comment Gift Arti...</td>\n",
       "      <td>0</td>\n",
       "      <td>0</td>\n",
       "      <td>0</td>\n",
       "      <td>0</td>\n",
       "      <td>0</td>\n",
       "      <td>1</td>\n",
       "      <td>0</td>\n",
       "    </tr>\n",
       "    <tr>\n",
       "      <th>3030</th>\n",
       "      <td>NASA's Curiosity rover has found wave-rippled ...</td>\n",
       "      <td>0</td>\n",
       "      <td>0</td>\n",
       "      <td>0</td>\n",
       "      <td>0</td>\n",
       "      <td>0</td>\n",
       "      <td>1</td>\n",
       "      <td>0</td>\n",
       "    </tr>\n",
       "    <tr>\n",
       "      <th>3031</th>\n",
       "      <td></td>\n",
       "      <td>0</td>\n",
       "      <td>0</td>\n",
       "      <td>0</td>\n",
       "      <td>0</td>\n",
       "      <td>0</td>\n",
       "      <td>1</td>\n",
       "      <td>0</td>\n",
       "    </tr>\n",
       "    <tr>\n",
       "      <th>3032</th>\n",
       "      <td>AUSTIN (KXAN) – A recent expedition to Patagon...</td>\n",
       "      <td>0</td>\n",
       "      <td>0</td>\n",
       "      <td>0</td>\n",
       "      <td>0</td>\n",
       "      <td>0</td>\n",
       "      <td>1</td>\n",
       "      <td>0</td>\n",
       "    </tr>\n",
       "    <tr>\n",
       "      <th>3033</th>\n",
       "      <td>We don’t want to alarm anyone, but the sun is ...</td>\n",
       "      <td>0</td>\n",
       "      <td>0</td>\n",
       "      <td>0</td>\n",
       "      <td>0</td>\n",
       "      <td>0</td>\n",
       "      <td>1</td>\n",
       "      <td>0</td>\n",
       "    </tr>\n",
       "  </tbody>\n",
       "</table>\n",
       "<p>3034 rows × 8 columns</p>\n",
       "</div>"
      ],
      "text/plain": [
       "                                                   text  WORLD  NATION  \\\n",
       "0     Summary\\n\\nSummary Companies Death toll reache...      1       0   \n",
       "1     Ukrainian President Volodymyr Zelensky and Pre...      1       0   \n",
       "2     CNN —\\n\\nMore than 3 tons of cocaine floating ...      1       0   \n",
       "3     CNN —\\n\\nGet '5 Things' in your inbox If your ...      1       0   \n",
       "4     The Kremlin on Thursday endorsed a blog post b...      1       0   \n",
       "...                                                 ...    ...     ...   \n",
       "3029  Listen Comment on this story Comment Gift Arti...      0       0   \n",
       "3030  NASA's Curiosity rover has found wave-rippled ...      0       0   \n",
       "3031                                                         0       0   \n",
       "3032  AUSTIN (KXAN) – A recent expedition to Patagon...      0       0   \n",
       "3033  We don’t want to alarm anyone, but the sun is ...      0       0   \n",
       "\n",
       "      BUSINESS  TECHNOLOGY  ENTERTAINMENT  SCIENCE  HEALTH  \n",
       "0            0           0              0        0       0  \n",
       "1            0           0              0        0       0  \n",
       "2            0           0              0        0       0  \n",
       "3            0           0              0        0       0  \n",
       "4            0           0              0        0       0  \n",
       "...        ...         ...            ...      ...     ...  \n",
       "3029         0           0              0        1       0  \n",
       "3030         0           0              0        1       0  \n",
       "3031         0           0              0        1       0  \n",
       "3032         0           0              0        1       0  \n",
       "3033         0           0              0        1       0  \n",
       "\n",
       "[3034 rows x 8 columns]"
      ]
     },
     "execution_count": 8,
     "metadata": {},
     "output_type": "execute_result"
    }
   ],
   "source": [
    "df"
   ]
  },
  {
   "cell_type": "markdown",
   "id": "4c8294a6-4a05-45f7-b238-65aa05c7ced5",
   "metadata": {},
   "source": [
    "## BERT: Data preparing and modeling"
   ]
  },
  {
   "cell_type": "code",
   "execution_count": 9,
   "id": "5f7d2905-b69f-4dab-a316-a9ef3d157676",
   "metadata": {},
   "outputs": [
    {
     "name": "stderr",
     "output_type": "stream",
     "text": [
      "Some weights of the model checkpoint at distilbert-base-uncased were not used when initializing DistilBertModel: ['vocab_projector.bias', 'vocab_projector.weight', 'vocab_layer_norm.bias', 'vocab_layer_norm.weight', 'vocab_transform.bias', 'vocab_transform.weight']\n",
      "- This IS expected if you are initializing DistilBertModel from the checkpoint of a model trained on another task or with another architecture (e.g. initializing a BertForSequenceClassification model from a BertForPreTraining model).\n",
      "- This IS NOT expected if you are initializing DistilBertModel from the checkpoint of a model that you expect to be exactly identical (initializing a BertForSequenceClassification model from a BertForSequenceClassification model).\n"
     ]
    }
   ],
   "source": [
    "# For pre-trained DistilBERT:\n",
    "model_class, tokenizer_class, pretrained_weights = (ppb.DistilBertModel, ppb.DistilBertTokenizer, 'distilbert-base-uncased')\n",
    "\n",
    "# Other models: https://huggingface.co/transformers/pretrained_models.html\n",
    "\n",
    "# Load pretrained model/tokenizer\n",
    "tokenizer = tokenizer_class.from_pretrained(pretrained_weights)\n",
    "model = model_class.from_pretrained(pretrained_weights)\n"
   ]
  },
  {
   "cell_type": "code",
   "execution_count": 10,
   "id": "59503b3c-35d4-4067-9612-ea0b7f01aa67",
   "metadata": {},
   "outputs": [
    {
     "name": "stderr",
     "output_type": "stream",
     "text": [
      "Token indices sequence length is longer than the specified maximum sequence length for this model (1468 > 512). Running this sequence through the model will result in indexing errors\n"
     ]
    },
    {
     "data": {
      "text/plain": [
       "(3034, 19993)"
      ]
     },
     "execution_count": 10,
     "metadata": {},
     "output_type": "execute_result"
    }
   ],
   "source": [
    "# Tokenization the sentences - break them up into word and subwords in the format BERT is comfortable with\n",
    "tokenized = df['text'].apply((lambda x: tokenizer.encode(x, add_special_tokens=True)))\n",
    "\n",
    "max_len = 0\n",
    "for i in tokenized.values:\n",
    "    if len(i) > max_len:\n",
    "        max_len = len(i)\n",
    "\n",
    "padded = np.array([i + [0]*(max_len-len(i)) for i in tokenized.values])\n",
    "np.array(padded).shape"
   ]
  },
  {
   "cell_type": "code",
   "execution_count": 11,
   "id": "9ea047b6-c94f-4411-832f-34ba1d3d2923",
   "metadata": {},
   "outputs": [
    {
     "name": "stdout",
     "output_type": "stream",
     "text": [
      "(3034, 19993)\n"
     ]
    },
    {
     "data": {
      "text/plain": [
       "array([[1, 1, 1, ..., 0, 0, 0],\n",
       "       [1, 1, 1, ..., 0, 0, 0],\n",
       "       [1, 1, 1, ..., 0, 0, 0],\n",
       "       ...,\n",
       "       [1, 1, 0, ..., 0, 0, 0],\n",
       "       [1, 1, 1, ..., 0, 0, 0],\n",
       "       [1, 1, 1, ..., 0, 0, 0]])"
      ]
     },
     "execution_count": 11,
     "metadata": {},
     "output_type": "execute_result"
    }
   ],
   "source": [
    "# Creation variable to ignore (mask) the data padding\n",
    "attention_mask = np.where(padded != 0, 1, 0)\n",
    "print(attention_mask.shape)\n",
    "attention_mask"
   ]
  },
  {
   "cell_type": "code",
   "execution_count": null,
   "id": "745971f6-99e0-41dd-8e8e-733c8d358e87",
   "metadata": {},
   "outputs": [],
   "source": [
    "# Modeling\n",
    "input_ids = torch.tensor(padded).to(torch.int64)\n",
    "attention_mask = torch.tensor(attention_mask).to(torch.int64)\n",
    "\n",
    "with torch.no_grad():\n",
    "    last_hidden_states = model(input_ids, attention_mask=attention_mask)"
   ]
  },
  {
   "cell_type": "code",
   "execution_count": null,
   "id": "4ee4a896-4e3c-4b16-b386-5be9bbf95b83",
   "metadata": {},
   "outputs": [],
   "source": [
    "# Last hidden states\n",
    "features = last_hidden_states[0][:,0,:].numpy()"
   ]
  },
  {
   "cell_type": "code",
   "execution_count": null,
   "id": "82e818b3-1767-4a2d-8165-74ab56e17cee",
   "metadata": {},
   "outputs": [],
   "source": []
  }
 ],
 "metadata": {
  "kernelspec": {
   "display_name": "Python 3 (ipykernel)",
   "language": "python",
   "name": "python3"
  },
  "language_info": {
   "codemirror_mode": {
    "name": "ipython",
    "version": 3
   },
   "file_extension": ".py",
   "mimetype": "text/x-python",
   "name": "python",
   "nbconvert_exporter": "python",
   "pygments_lexer": "ipython3",
   "version": "3.10.8"
  }
 },
 "nbformat": 4,
 "nbformat_minor": 5
}
