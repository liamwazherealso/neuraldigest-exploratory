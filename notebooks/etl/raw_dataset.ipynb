{
 "cells": [
  {
   "cell_type": "code",
   "execution_count": 11,
   "id": "41c57830-a337-4d7f-b924-ee90fa806678",
   "metadata": {},
   "outputs": [
    {
     "data": {
      "text/plain": [
       "3034"
      ]
     },
     "execution_count": 11,
     "metadata": {},
     "output_type": "execute_result"
    }
   ],
   "source": [
    "from tinydb import TinyDB, Query\n",
    "import pandas as pd\n",
    "db = TinyDB('../../data/raw/db.json')\n",
    "\n",
    "len(db)"
   ]
  },
  {
   "cell_type": "code",
   "execution_count": 4,
   "id": "bf077b4b-88ec-4da1-b419-dfb0d1bda0e4",
   "metadata": {},
   "outputs": [],
   "source": [
    "for article in db:\n",
    "    a = article\n",
    "    break"
   ]
  },
  {
   "cell_type": "code",
   "execution_count": 9,
   "id": "27ff5d6b-0a8b-4b7d-b88b-6f00bbdfce2b",
   "metadata": {},
   "outputs": [
    {
     "data": {
      "text/plain": [
       "{'title': 'Plight of homeless deepens as Turkey-Syria earthquake toll passes 17000 - Reuters',\n",
       " 'description': \"Plight of homeless deepens as Turkey-Syria earthquake toll passes 17000  ReutersEarthquakes Kill Over 17000 In Turkey And Syria | Turkey Earthquake LIVE Footage | Rescue Ops Live  CNN-News18Here's why the earthquake in Turkey and Syria was so deadly  CNNErdogan has undermined Turkey's earthquake response  The Japan TimesTaiwan president to donate a month's salary for Turkey relief efforts  ReutersView Full Coverage on Google News\",\n",
       " 'published date': 'Thu, 09 Feb 2023 12:23:00 GMT',\n",
       " 'url': 'https://news.google.com/rss/articles/CBMiaGh0dHBzOi8vd3d3LnJldXRlcnMuY29tL3dvcmxkL21pZGRsZS1lYXN0L2RlYXRoLXRvbGwtc3lyaWEtdHVya2V5LXF1YWtlLXJpc2VzLW1vcmUtdGhhbi04NzAwLTIwMjMtMDItMDgv0gEA?oc=5&hl=en-US&gl=US&ceid=US:en',\n",
       " 'publisher': {'href': 'https://www.reuters.com', 'title': 'Reuters'},\n",
       " 'text': 'Summary\\n\\nSummary Companies Death toll reaches 16,546 in Turkey, over 3,000 in Syria\\n\\nHundreds of thousands left homeless in middle of winter\\n\\nFirst U.N. aid convoy enters northwest Syria from Turkey\\n\\nTwo-year-old pulled from rubble in Turkey 79 hours after quake\\n\\n\\n\\n\\n\\n\\n\\n\\n\\n\\n\\n\\n\\n\\n\\nANTAKYA, Turkey/JANDARIS, Syria, Feb 9, (Reuters) - Cold, hunger and despair gripped hundreds of thousands of people left homeless after the earthquakes that struck Turkey and Syria three days ago as the death toll passed 19,000 on Thursday.\\n\\nThe rescue of a two-year-old boy after 79 hours trapped in the rubble of a collapsed building in Hatay, Turkey, and several other people raised spirits among weary search crews. But hopes were fading that many more would be found alive in the ruins of towns and cities.\\n\\nThe death toll across both countries has now surpassed the more than 17,000 killed in 1999 when a similarly powerful quake hit northwest Turkey.\\n\\nA Turkish official said the disaster posed \"very serious difficulties\" for the holding of an election scheduled for May 14 in which President Tayyip Erdogan has been expected to face the toughest challenge in his two decades in power.\\n\\nWith anger simmering over the slow delivery of aid and delays in getting the rescue effort underway, it is bound to play into the vote should it still go ahead.\\n\\nMeanwhile the first United Nations convoy carrying aid to stricken Syrians crossed over the border from Turkey, three days after the quake struck.\\n\\nIn Syria\\'s Idlib province, Munira Mohammad, a mother-of-four who had fled Aleppo after the quake, said: \"It is all children here, and we need heating and supplies, last night we couldn\\'t sleep because it was so cold. It is very bad.\"\\n\\nHundreds of thousands of people across both countries have been left homeless in the middle of winter. Many have camped out in makeshift shelters in supermarket car parks, mosques, roadsides or amid the ruins, often desperate for food, water and heat.\\n\\nROADSIDE CAMPFIRES\\n\\nAt a gas station near the Turkish town of Kemalpasa, people picked through cardboard boxes of donated clothes. In the port city of Iskenderun, Reuters journalists saw people huddled round campfires on roadsides and in wrecked garages and warehouses.\\n\\nAuthorities say some 6,500 buildings in Turkey collapsed and countless more were damaged.\\n\\nThe confirmed death toll in Turkey rose to 16,546 on Thursday, Erdogan said. In Syria, already devastated by nearly 12 years of civil war, more than 3,000 people have died, according to the government and a rescue service in the rebel-held northwest.\\n\\nIn Turkey\\'s Maras, people camped inside a bank, taping a sheet in the window for privacy. Others had set up on the grass median of a main road, heating instant soup on fires and wrapping themselves in blankets.\\n\\nIn Antakya, few petrol stations had fuel and kilometres-long queues stretched from those that did.\\n\\nIn the devastated Syrian town of Jandaris, Ibrahim Khalil Menkaween walked in the rubble-strewn streets clutching a white body bag. He said he had lost seven members of his family including his wife and two of his brothers.\\n\\n\"I’m holding this bag for when they bring out my brother, and my brother’s young son, and both of their wives, so we can pack them in bags,\" he said. \"The situation is very bad. And there is no aid.\"\\n\\nTurkish officials say some 13.5 million people were affected in an area spanning roughly 450 km (280 miles) from Adana in the west to Diyarbakir in the east. In Syria, people were killed as far south as Hama, 250 km from the epicentre.\\n\\nBAREFOOT AND BRUISED\\n\\n[1/39] An aerial view shows collapsed buildings, in the aftermath of the deadly earthquake, in Kahramanmaras, Turkey, February 9, 2023. REUTERS/Stoyan Nenov 1 2 3 4 5\\n\\nThere were still some signs of hope.\\n\\nA two-year-old boy was picked out of the rubble by a Romanian and Polish rescue team in Hatay 79 hours after the quake, video released by Turkey\\'s Humanitarian Relief Foundation (IHH) on Thursday showed.\\n\\nThe boy, wearing a blue, white and black striped sweater, cried as he was gently lifted from the hole where he had been trapped. He was carried away on a blanket. No other details were immediately available.\\n\\nAnother video from IHH showed a helmeted and dust-streaked rescuer weeping with emotion after successfully freeing a little girl from the rubble of a collapsed building in Kahramanmaras.\\n\\nTurkish footage late on Wednesday showed a few more survivors being rescued, including Abdulalim Muaini, who was pulled from his collapsed home in Hatay, where he had remained since Monday next to his dead wife.\\n\\nMany in Turkey have complained of a lack of equipment, expertise and support to rescue those trapped - sometimes even as they could hear cries for help.\\n\\nAfter facing criticism over the initial response, Erdogan said on a visit to the area on Wednesday operations were now working normally and promised no one would be left homeless.\\n\\nNevertheless, the disaster will pose an additional challenge to the long-ruling president in the election.\\n\\nOne official told Reuters it was too early to make any decision on elections, noting that a three-month state of emergency had been announced and that some 15% of Turkey\\'s population lived in the affected area.\\n\\n\"We will look at developments but at the moment there are very serious difficulties in holding an election on May 14,\" he said.\\n\\nSYRIA OVERWHELMED\\n\\nIn Syria, relief efforts are complicated by a conflict that has partitioned the country and wrecked its infrastructure.\\n\\nThe U.N. aid convoy entered Syria at the Bab Al Hawa crossing - a lifeline for accessing opposition-controlled areas where some 4 million people, many displaced by the war, were already relying on humanitarian aid.\\n\\nThe U.N. envoy to Syria, Geir Pedersen, said in Geneva\\n\\n\"absolutely everything\" was needed in terms of aid. Roads leading to the border crossing had been destroyed, causing delays, he said.\\n\\nSyrian civil defence said at least 1,930 people were killed in opposition-held northwest Syria, and the government has reported 1,347 deaths.\\n\\nEl-Mostafa Benlamlih, the senior U.N. aid official in Syria, said 10.9 million people had been affected.\\n\\nSyria\\'s ambassador to the United Nations on Wednesday admitted the government lacked capability and equipment, but blamed the war and Western sanctions.\\n\\nSyrian President Bashar al-Assad has chaired emergency meetings on the earthquake but has not addressed the nation in a speech or news conference.\\n\\nAdditional reporting by Orhan Coskun in Ankara, Ece Toksabay in Adana, Jonathan Spicer, Daren Butler and Ezgi Erkoyun in Istanbul, Maya Gebeily in southern Turkey, Khalil Ashawi in northern Syria, Suleiman al-Khalidi in Amman; Writing by Tom Perry and Angus MacSwan; Editing by Alex Richardson\\n\\n\\n\\n\\n\\n\\n\\n\\n\\n\\n\\nOur Standards: The Thomson Reuters Trust Principles.',\n",
       " 'topic': 'WORLD'}"
      ]
     },
     "execution_count": 9,
     "metadata": {},
     "output_type": "execute_result"
    }
   ],
   "source": [
    "a"
   ]
  },
  {
   "cell_type": "code",
   "execution_count": 17,
   "id": "e97e81da-465e-4a29-804c-9f37677c4454",
   "metadata": {},
   "outputs": [],
   "source": [
    "records = []\n",
    "for article in db:\n",
    "    records.append(dict(article))\n",
    "\n",
    "df = pd.DataFrame.from_records(records)"
   ]
  },
  {
   "cell_type": "code",
   "execution_count": 18,
   "id": "8f3dfe55-605d-46a6-ad4b-6da27a4c2a03",
   "metadata": {},
   "outputs": [
    {
     "data": {
      "text/plain": [
       "title             0\n",
       "description       0\n",
       "published date    0\n",
       "url               0\n",
       "publisher         0\n",
       "text              0\n",
       "topic             0\n",
       "dtype: int64"
      ]
     },
     "execution_count": 18,
     "metadata": {},
     "output_type": "execute_result"
    }
   ],
   "source": [
    "df.isna().sum()"
   ]
  },
  {
   "cell_type": "code",
   "execution_count": 20,
   "id": "9fdc7587-a51e-462a-a2e1-ff3a696ab361",
   "metadata": {},
   "outputs": [],
   "source": [
    "df.to_pickle('../../data/raw/raw.p')"
   ]
  },
  {
   "cell_type": "code",
   "execution_count": null,
   "id": "067952b0-e54b-4c05-8444-ddc9bb6623c4",
   "metadata": {},
   "outputs": [],
   "source": []
  }
 ],
 "metadata": {
  "kernelspec": {
   "display_name": "Python 3 (ipykernel)",
   "language": "python",
   "name": "python3"
  },
  "language_info": {
   "codemirror_mode": {
    "name": "ipython",
    "version": 3
   },
   "file_extension": ".py",
   "mimetype": "text/x-python",
   "name": "python",
   "nbconvert_exporter": "python",
   "pygments_lexer": "ipython3",
   "version": "3.10.8"
  }
 },
 "nbformat": 4,
 "nbformat_minor": 5
}
