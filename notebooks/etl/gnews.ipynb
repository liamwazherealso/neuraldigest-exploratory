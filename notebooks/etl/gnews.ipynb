{
 "cells": [
  {
   "cell_type": "markdown",
   "id": "cf30e267-5263-440b-9e97-1396a658c001",
   "metadata": {},
   "source": [
    "# Experiment with Data Source - Gnews\n",
    "\n",
    "Gnews seems to be the most up to data python API to the google news RSS feed. \n",
    "\n",
    "Starting here since attempting to install [pygooglenews](https://github.com/kotartemiy/pygooglenews) was not fruitful."
   ]
  },
  {
   "cell_type": "code",
   "execution_count": 55,
   "id": "b4848ba6-5e1f-4c8b-b119-d2eb49957e03",
   "metadata": {},
   "outputs": [],
   "source": [
    "from gnews import GNews\n",
    "import newspaper\n",
    "import sys\n",
    "from tinydb import TinyDB, Query"
   ]
  },
  {
   "cell_type": "code",
   "execution_count": 23,
   "id": "f6167bd6-a505-47c0-9628-444ff5e62b37",
   "metadata": {},
   "outputs": [],
   "source": [
    "google_news = GNews()\n",
    "json_resp = google_news.get_top_news()"
   ]
  },
  {
   "cell_type": "code",
   "execution_count": 24,
   "id": "f6315247-0dd8-4cee-8c40-24bf5cc1c05d",
   "metadata": {},
   "outputs": [
    {
     "data": {
      "text/plain": [
       "{'title': \"'He rope-a-doped them': Democrats celebrate GOP jeers at SOTU - POLITICO\",\n",
       " 'description': \"'He rope-a-doped them': Democrats celebrate GOP jeers at SOTU  POLITICOBiden’s State of the Union address: Top 5 moments  Fox NewsThe Guardian view on Biden’s State of the Union: deft politics - now to persuade voters  The GuardianOpinion: Biden plays 'truth or dare' with GOP  CNNOpinion | Times Columnists Respond to the State of the Union  The New York Times\",\n",
       " 'published date': 'Wed, 08 Feb 2023 17:30:52 GMT',\n",
       " 'url': 'https://news.google.com/rss/articles/CBMiamh0dHBzOi8vd3d3LnBvbGl0aWNvLmNvbS9uZXdzLzIwMjMvMDIvMDgvZGVtcy1zdGljay11cC1mb3ItYmlkZW4tYWZ0ZXItcmVwdWJsaWNhbi1qZWVyaW5nLWF0LXNvdHUtMDAwODE3OTDSAQA?oc=5&hl=en-US&gl=US&ceid=US:en',\n",
       " 'publisher': {'href': 'https://www.politico.com', 'title': 'POLITICO'}}"
      ]
     },
     "execution_count": 24,
     "metadata": {},
     "output_type": "execute_result"
    }
   ],
   "source": [
    "json_resp[0]"
   ]
  },
  {
   "cell_type": "code",
   "execution_count": 18,
   "id": "cc4085c1-bb2d-42bc-8cd8-35b788f147c2",
   "metadata": {},
   "outputs": [
    {
     "name": "stdout",
     "output_type": "stream",
     "text": [
      "6.75 s ± 168 ms per loop (mean ± std. dev. of 7 runs, 1 loop each)\n"
     ]
    }
   ],
   "source": [
    "%timeit google_news.get_top_news()"
   ]
  },
  {
   "cell_type": "code",
   "execution_count": 25,
   "id": "1e2c96b9-e4c0-4007-a371-62027e9b7d67",
   "metadata": {},
   "outputs": [
    {
     "data": {
      "text/plain": [
       "5.62962962962963"
      ]
     },
     "execution_count": 25,
     "metadata": {},
     "output_type": "execute_result"
    }
   ],
   "source": [
    "len(json_resp) / 6.75"
   ]
  },
  {
   "cell_type": "raw",
   "id": "a0add2d3-4c65-4aec-945b-a6f3bbff7cd6",
   "metadata": {},
   "source": [
    "5.6 articles metadata can be gathered a second."
   ]
  },
  {
   "cell_type": "markdown",
   "id": "473bdced-2a37-43ea-8039-a29da84588a6",
   "metadata": {},
   "source": [
    "## Full Articles"
   ]
  },
  {
   "cell_type": "code",
   "execution_count": 49,
   "id": "f90df0b0-a464-463b-8342-ebee9bf5d390",
   "metadata": {},
   "outputs": [
    {
     "name": "stderr",
     "output_type": "stream",
     "text": [
      "WARNING: pip is being invoked by an old script wrapper. This will fail in a future version of pip.\n",
      "Please see https://github.com/pypa/pip/issues/5599 for advice on fixing the underlying issue.\n",
      "To avoid this problem you can invoke Python with '-m pip' instead of running pip directly.\n"
     ]
    },
    {
     "data": {
      "text/html": [
       "<pre style=\"white-space:pre;overflow-x:auto;line-height:normal;font-family:Menlo,'DejaVu Sans Mono',consolas,'Courier New',monospace\">Requirement already satisfied: newspaper3k in /Users/lpieri/mambaforge/envs/ml-news-exploratory/lib/python3.10/site-packages (0.2.8)\n",
       "</pre>\n"
      ],
      "text/plain": [
       "Requirement already satisfied: newspaper3k in /Users/lpieri/mambaforge/envs/ml-news-exploratory/lib/python3.10/site-packages (0.2.8)\n"
      ]
     },
     "metadata": {},
     "output_type": "display_data"
    },
    {
     "data": {
      "text/html": [
       "<pre style=\"white-space:pre;overflow-x:auto;line-height:normal;font-family:Menlo,'DejaVu Sans Mono',consolas,'Courier New',monospace\">Requirement already satisfied: Pillow&gt;=3.3.0 in /Users/lpieri/mambaforge/envs/ml-news-exploratory/lib/python3.10/site-packages (from newspaper3k) (9.4.0)\n",
       "</pre>\n"
      ],
      "text/plain": [
       "Requirement already satisfied: Pillow>=3.3.0 in /Users/lpieri/mambaforge/envs/ml-news-exploratory/lib/python3.10/site-packages (from newspaper3k) (9.4.0)\n"
      ]
     },
     "metadata": {},
     "output_type": "display_data"
    },
    {
     "data": {
      "text/html": [
       "<pre style=\"white-space:pre;overflow-x:auto;line-height:normal;font-family:Menlo,'DejaVu Sans Mono',consolas,'Courier New',monospace\">Requirement already satisfied: python-dateutil&gt;=2.5.3 in /Users/lpieri/mambaforge/envs/ml-news-exploratory/lib/python3.10/site-packages (from newspaper3k) (2.8.2)\n",
       "</pre>\n"
      ],
      "text/plain": [
       "Requirement already satisfied: python-dateutil>=2.5.3 in /Users/lpieri/mambaforge/envs/ml-news-exploratory/lib/python3.10/site-packages (from newspaper3k) (2.8.2)\n"
      ]
     },
     "metadata": {},
     "output_type": "display_data"
    },
    {
     "data": {
      "text/html": [
       "<pre style=\"white-space:pre;overflow-x:auto;line-height:normal;font-family:Menlo,'DejaVu Sans Mono',consolas,'Courier New',monospace\">Requirement already satisfied: nltk&gt;=3.2.1 in /Users/lpieri/mambaforge/envs/ml-news-exploratory/lib/python3.10/site-packages (from newspaper3k) (3.8.1)\n",
       "</pre>\n"
      ],
      "text/plain": [
       "Requirement already satisfied: nltk>=3.2.1 in /Users/lpieri/mambaforge/envs/ml-news-exploratory/lib/python3.10/site-packages (from newspaper3k) (3.8.1)\n"
      ]
     },
     "metadata": {},
     "output_type": "display_data"
    },
    {
     "data": {
      "text/html": [
       "<pre style=\"white-space:pre;overflow-x:auto;line-height:normal;font-family:Menlo,'DejaVu Sans Mono',consolas,'Courier New',monospace\">Requirement already satisfied: cssselect&gt;=0.9.2 in /Users/lpieri/mambaforge/envs/ml-news-exploratory/lib/python3.10/site-packages (from newspaper3k) (1.2.0)\n",
       "</pre>\n"
      ],
      "text/plain": [
       "Requirement already satisfied: cssselect>=0.9.2 in /Users/lpieri/mambaforge/envs/ml-news-exploratory/lib/python3.10/site-packages (from newspaper3k) (1.2.0)\n"
      ]
     },
     "metadata": {},
     "output_type": "display_data"
    },
    {
     "data": {
      "text/html": [
       "<pre style=\"white-space:pre;overflow-x:auto;line-height:normal;font-family:Menlo,'DejaVu Sans Mono',consolas,'Courier New',monospace\">Requirement already satisfied: jieba3k&gt;=0.35.1 in /Users/lpieri/mambaforge/envs/ml-news-exploratory/lib/python3.10/site-packages (from newspaper3k) (0.35.1)\n",
       "</pre>\n"
      ],
      "text/plain": [
       "Requirement already satisfied: jieba3k>=0.35.1 in /Users/lpieri/mambaforge/envs/ml-news-exploratory/lib/python3.10/site-packages (from newspaper3k) (0.35.1)\n"
      ]
     },
     "metadata": {},
     "output_type": "display_data"
    },
    {
     "data": {
      "text/html": [
       "<pre style=\"white-space:pre;overflow-x:auto;line-height:normal;font-family:Menlo,'DejaVu Sans Mono',consolas,'Courier New',monospace\">Requirement already satisfied: lxml&gt;=3.6.0 in /Users/lpieri/mambaforge/envs/ml-news-exploratory/lib/python3.10/site-packages (from newspaper3k) (4.9.2)\n",
       "</pre>\n"
      ],
      "text/plain": [
       "Requirement already satisfied: lxml>=3.6.0 in /Users/lpieri/mambaforge/envs/ml-news-exploratory/lib/python3.10/site-packages (from newspaper3k) (4.9.2)\n"
      ]
     },
     "metadata": {},
     "output_type": "display_data"
    },
    {
     "data": {
      "text/html": [
       "<pre style=\"white-space:pre;overflow-x:auto;line-height:normal;font-family:Menlo,'DejaVu Sans Mono',consolas,'Courier New',monospace\">Requirement already satisfied: tinysegmenter==0.3 in /Users/lpieri/mambaforge/envs/ml-news-exploratory/lib/python3.10/site-packages (from newspaper3k) (0.3)\n",
       "</pre>\n"
      ],
      "text/plain": [
       "Requirement already satisfied: tinysegmenter==0.3 in /Users/lpieri/mambaforge/envs/ml-news-exploratory/lib/python3.10/site-packages (from newspaper3k) (0.3)\n"
      ]
     },
     "metadata": {},
     "output_type": "display_data"
    },
    {
     "data": {
      "text/html": [
       "<pre style=\"white-space:pre;overflow-x:auto;line-height:normal;font-family:Menlo,'DejaVu Sans Mono',consolas,'Courier New',monospace\">Requirement already satisfied: feedparser&gt;=5.2.1 in /Users/lpieri/mambaforge/envs/ml-news-exploratory/lib/python3.10/site-packages (from newspaper3k) (6.0.10)\n",
       "</pre>\n"
      ],
      "text/plain": [
       "Requirement already satisfied: feedparser>=5.2.1 in /Users/lpieri/mambaforge/envs/ml-news-exploratory/lib/python3.10/site-packages (from newspaper3k) (6.0.10)\n"
      ]
     },
     "metadata": {},
     "output_type": "display_data"
    },
    {
     "data": {
      "text/html": [
       "<pre style=\"white-space:pre;overflow-x:auto;line-height:normal;font-family:Menlo,'DejaVu Sans Mono',consolas,'Courier New',monospace\">Requirement already satisfied: tldextract&gt;=2.0.1 in /Users/lpieri/mambaforge/envs/ml-news-exploratory/lib/python3.10/site-packages (from newspaper3k) (3.4.0)\n",
       "</pre>\n"
      ],
      "text/plain": [
       "Requirement already satisfied: tldextract>=2.0.1 in /Users/lpieri/mambaforge/envs/ml-news-exploratory/lib/python3.10/site-packages (from newspaper3k) (3.4.0)\n"
      ]
     },
     "metadata": {},
     "output_type": "display_data"
    },
    {
     "data": {
      "text/html": [
       "<pre style=\"white-space:pre;overflow-x:auto;line-height:normal;font-family:Menlo,'DejaVu Sans Mono',consolas,'Courier New',monospace\">Requirement already satisfied: PyYAML&gt;=3.11 in /Users/lpieri/mambaforge/envs/ml-news-exploratory/lib/python3.10/site-packages (from newspaper3k) (6.0)\n",
       "</pre>\n"
      ],
      "text/plain": [
       "Requirement already satisfied: PyYAML>=3.11 in /Users/lpieri/mambaforge/envs/ml-news-exploratory/lib/python3.10/site-packages (from newspaper3k) (6.0)\n"
      ]
     },
     "metadata": {},
     "output_type": "display_data"
    },
    {
     "data": {
      "text/html": [
       "<pre style=\"white-space:pre;overflow-x:auto;line-height:normal;font-family:Menlo,'DejaVu Sans Mono',consolas,'Courier New',monospace\">Requirement already satisfied: beautifulsoup4&gt;=4.4.1 in /Users/lpieri/mambaforge/envs/ml-news-exploratory/lib/python3.10/site-packages (from newspaper3k) (4.9.3)\n",
       "</pre>\n"
      ],
      "text/plain": [
       "Requirement already satisfied: beautifulsoup4>=4.4.1 in /Users/lpieri/mambaforge/envs/ml-news-exploratory/lib/python3.10/site-packages (from newspaper3k) (4.9.3)\n"
      ]
     },
     "metadata": {},
     "output_type": "display_data"
    },
    {
     "data": {
      "text/html": [
       "<pre style=\"white-space:pre;overflow-x:auto;line-height:normal;font-family:Menlo,'DejaVu Sans Mono',consolas,'Courier New',monospace\">Requirement already satisfied: requests&gt;=2.10.0 in /Users/lpieri/mambaforge/envs/ml-news-exploratory/lib/python3.10/site-packages (from newspaper3k) (2.26.0)\n",
       "</pre>\n"
      ],
      "text/plain": [
       "Requirement already satisfied: requests>=2.10.0 in /Users/lpieri/mambaforge/envs/ml-news-exploratory/lib/python3.10/site-packages (from newspaper3k) (2.26.0)\n"
      ]
     },
     "metadata": {},
     "output_type": "display_data"
    },
    {
     "data": {
      "text/html": [
       "<pre style=\"white-space:pre;overflow-x:auto;line-height:normal;font-family:Menlo,'DejaVu Sans Mono',consolas,'Courier New',monospace\">Requirement already satisfied: feedfinder2&gt;=0.0.4 in /Users/lpieri/mambaforge/envs/ml-news-exploratory/lib/python3.10/site-packages (from newspaper3k) (0.0.4)\n",
       "</pre>\n"
      ],
      "text/plain": [
       "Requirement already satisfied: feedfinder2>=0.0.4 in /Users/lpieri/mambaforge/envs/ml-news-exploratory/lib/python3.10/site-packages (from newspaper3k) (0.0.4)\n"
      ]
     },
     "metadata": {},
     "output_type": "display_data"
    },
    {
     "data": {
      "text/html": [
       "<pre style=\"white-space:pre;overflow-x:auto;line-height:normal;font-family:Menlo,'DejaVu Sans Mono',consolas,'Courier New',monospace\">Requirement already satisfied: soupsieve&gt;1.2 in /Users/lpieri/mambaforge/envs/ml-news-exploratory/lib/python3.10/site-packages (from beautifulsoup4&gt;=4.4.1-&gt;newspaper3k) (2.3.2.post1)\n",
       "</pre>\n"
      ],
      "text/plain": [
       "Requirement already satisfied: soupsieve>1.2 in /Users/lpieri/mambaforge/envs/ml-news-exploratory/lib/python3.10/site-packages (from beautifulsoup4>=4.4.1->newspaper3k) (2.3.2.post1)\n"
      ]
     },
     "metadata": {},
     "output_type": "display_data"
    },
    {
     "data": {
      "text/html": [
       "<pre style=\"white-space:pre;overflow-x:auto;line-height:normal;font-family:Menlo,'DejaVu Sans Mono',consolas,'Courier New',monospace\">Requirement already satisfied: six in /Users/lpieri/mambaforge/envs/ml-news-exploratory/lib/python3.10/site-packages (from feedfinder2&gt;=0.0.4-&gt;newspaper3k) (1.16.0)\n",
       "</pre>\n"
      ],
      "text/plain": [
       "Requirement already satisfied: six in /Users/lpieri/mambaforge/envs/ml-news-exploratory/lib/python3.10/site-packages (from feedfinder2>=0.0.4->newspaper3k) (1.16.0)\n"
      ]
     },
     "metadata": {},
     "output_type": "display_data"
    },
    {
     "data": {
      "text/html": [
       "<pre style=\"white-space:pre;overflow-x:auto;line-height:normal;font-family:Menlo,'DejaVu Sans Mono',consolas,'Courier New',monospace\">Requirement already satisfied: sgmllib3k in /Users/lpieri/mambaforge/envs/ml-news-exploratory/lib/python3.10/site-packages (from feedparser&gt;=5.2.1-&gt;newspaper3k) (1.0.0)\n",
       "</pre>\n"
      ],
      "text/plain": [
       "Requirement already satisfied: sgmllib3k in /Users/lpieri/mambaforge/envs/ml-news-exploratory/lib/python3.10/site-packages (from feedparser>=5.2.1->newspaper3k) (1.0.0)\n"
      ]
     },
     "metadata": {},
     "output_type": "display_data"
    },
    {
     "data": {
      "text/html": [
       "<pre style=\"white-space:pre;overflow-x:auto;line-height:normal;font-family:Menlo,'DejaVu Sans Mono',consolas,'Courier New',monospace\">Requirement already satisfied: click in /Users/lpieri/mambaforge/envs/ml-news-exploratory/lib/python3.10/site-packages (from nltk&gt;=3.2.1-&gt;newspaper3k) (8.0.4)\n",
       "</pre>\n"
      ],
      "text/plain": [
       "Requirement already satisfied: click in /Users/lpieri/mambaforge/envs/ml-news-exploratory/lib/python3.10/site-packages (from nltk>=3.2.1->newspaper3k) (8.0.4)\n"
      ]
     },
     "metadata": {},
     "output_type": "display_data"
    },
    {
     "data": {
      "text/html": [
       "<pre style=\"white-space:pre;overflow-x:auto;line-height:normal;font-family:Menlo,'DejaVu Sans Mono',consolas,'Courier New',monospace\">Requirement already satisfied: regex&gt;=2021.8.3 in /Users/lpieri/mambaforge/envs/ml-news-exploratory/lib/python3.10/site-packages (from nltk&gt;=3.2.1-&gt;newspaper3k) (2022.10.31)\n",
       "</pre>\n"
      ],
      "text/plain": [
       "Requirement already satisfied: regex>=2021.8.3 in /Users/lpieri/mambaforge/envs/ml-news-exploratory/lib/python3.10/site-packages (from nltk>=3.2.1->newspaper3k) (2022.10.31)\n"
      ]
     },
     "metadata": {},
     "output_type": "display_data"
    },
    {
     "data": {
      "text/html": [
       "<pre style=\"white-space:pre;overflow-x:auto;line-height:normal;font-family:Menlo,'DejaVu Sans Mono',consolas,'Courier New',monospace\">Requirement already satisfied: tqdm in /Users/lpieri/mambaforge/envs/ml-news-exploratory/lib/python3.10/site-packages (from nltk&gt;=3.2.1-&gt;newspaper3k) (4.64.1)\n",
       "</pre>\n"
      ],
      "text/plain": [
       "Requirement already satisfied: tqdm in /Users/lpieri/mambaforge/envs/ml-news-exploratory/lib/python3.10/site-packages (from nltk>=3.2.1->newspaper3k) (4.64.1)\n"
      ]
     },
     "metadata": {},
     "output_type": "display_data"
    },
    {
     "data": {
      "text/html": [
       "<pre style=\"white-space:pre;overflow-x:auto;line-height:normal;font-family:Menlo,'DejaVu Sans Mono',consolas,'Courier New',monospace\">Requirement already satisfied: joblib in /Users/lpieri/mambaforge/envs/ml-news-exploratory/lib/python3.10/site-packages (from nltk&gt;=3.2.1-&gt;newspaper3k) (1.2.0)\n",
       "</pre>\n"
      ],
      "text/plain": [
       "Requirement already satisfied: joblib in /Users/lpieri/mambaforge/envs/ml-news-exploratory/lib/python3.10/site-packages (from nltk>=3.2.1->newspaper3k) (1.2.0)\n"
      ]
     },
     "metadata": {},
     "output_type": "display_data"
    },
    {
     "data": {
      "text/html": [
       "<pre style=\"white-space:pre;overflow-x:auto;line-height:normal;font-family:Menlo,'DejaVu Sans Mono',consolas,'Courier New',monospace\">Requirement already satisfied: idna&lt;4,&gt;=2.5 in /Users/lpieri/mambaforge/envs/ml-news-exploratory/lib/python3.10/site-packages (from requests&gt;=2.10.0-&gt;newspaper3k) (3.4)\n",
       "</pre>\n"
      ],
      "text/plain": [
       "Requirement already satisfied: idna<4,>=2.5 in /Users/lpieri/mambaforge/envs/ml-news-exploratory/lib/python3.10/site-packages (from requests>=2.10.0->newspaper3k) (3.4)\n"
      ]
     },
     "metadata": {},
     "output_type": "display_data"
    },
    {
     "data": {
      "text/html": [
       "<pre style=\"white-space:pre;overflow-x:auto;line-height:normal;font-family:Menlo,'DejaVu Sans Mono',consolas,'Courier New',monospace\">Requirement already satisfied: urllib3&lt;1.27,&gt;=1.21.1 in /Users/lpieri/mambaforge/envs/ml-news-exploratory/lib/python3.10/site-packages (from requests&gt;=2.10.0-&gt;newspaper3k) (1.26.13)\n",
       "</pre>\n"
      ],
      "text/plain": [
       "Requirement already satisfied: urllib3<1.27,>=1.21.1 in /Users/lpieri/mambaforge/envs/ml-news-exploratory/lib/python3.10/site-packages (from requests>=2.10.0->newspaper3k) (1.26.13)\n"
      ]
     },
     "metadata": {},
     "output_type": "display_data"
    },
    {
     "data": {
      "text/html": [
       "<pre style=\"white-space:pre;overflow-x:auto;line-height:normal;font-family:Menlo,'DejaVu Sans Mono',consolas,'Courier New',monospace\">Requirement already satisfied: certifi&gt;=2017.4.17 in /Users/lpieri/mambaforge/envs/ml-news-exploratory/lib/python3.10/site-packages (from requests&gt;=2.10.0-&gt;newspaper3k) (2022.12.7)\n",
       "</pre>\n"
      ],
      "text/plain": [
       "Requirement already satisfied: certifi>=2017.4.17 in /Users/lpieri/mambaforge/envs/ml-news-exploratory/lib/python3.10/site-packages (from requests>=2.10.0->newspaper3k) (2022.12.7)\n"
      ]
     },
     "metadata": {},
     "output_type": "display_data"
    },
    {
     "data": {
      "text/html": [
       "<pre style=\"white-space:pre;overflow-x:auto;line-height:normal;font-family:Menlo,'DejaVu Sans Mono',consolas,'Courier New',monospace\">Requirement already satisfied: charset-normalizer~=2.0.0 in /Users/lpieri/mambaforge/envs/ml-news-exploratory/lib/python3.10/site-packages (from requests&gt;=2.10.0-&gt;newspaper3k) (2.0.12)\n",
       "</pre>\n"
      ],
      "text/plain": [
       "Requirement already satisfied: charset-normalizer~=2.0.0 in /Users/lpieri/mambaforge/envs/ml-news-exploratory/lib/python3.10/site-packages (from requests>=2.10.0->newspaper3k) (2.0.12)\n"
      ]
     },
     "metadata": {},
     "output_type": "display_data"
    },
    {
     "data": {
      "text/html": [
       "<pre style=\"white-space:pre;overflow-x:auto;line-height:normal;font-family:Menlo,'DejaVu Sans Mono',consolas,'Courier New',monospace\">Requirement already satisfied: requests-file&gt;=1.4 in /Users/lpieri/mambaforge/envs/ml-news-exploratory/lib/python3.10/site-packages (from tldextract&gt;=2.0.1-&gt;newspaper3k) (1.5.1)\n",
       "</pre>\n"
      ],
      "text/plain": [
       "Requirement already satisfied: requests-file>=1.4 in /Users/lpieri/mambaforge/envs/ml-news-exploratory/lib/python3.10/site-packages (from tldextract>=2.0.1->newspaper3k) (1.5.1)\n"
      ]
     },
     "metadata": {},
     "output_type": "display_data"
    },
    {
     "data": {
      "text/html": [
       "<pre style=\"white-space:pre;overflow-x:auto;line-height:normal;font-family:Menlo,'DejaVu Sans Mono',consolas,'Courier New',monospace\">Requirement already satisfied: filelock&gt;=3.0.8 in /Users/lpieri/mambaforge/envs/ml-news-exploratory/lib/python3.10/site-packages (from tldextract&gt;=2.0.1-&gt;newspaper3k) (3.9.0)\n",
       "</pre>\n"
      ],
      "text/plain": [
       "Requirement already satisfied: filelock>=3.0.8 in /Users/lpieri/mambaforge/envs/ml-news-exploratory/lib/python3.10/site-packages (from tldextract>=2.0.1->newspaper3k) (3.9.0)\n"
      ]
     },
     "metadata": {},
     "output_type": "display_data"
    }
   ],
   "source": [
    "article = google_news.get_full_article(json_resp[0]['url'])"
   ]
  },
  {
   "cell_type": "code",
   "execution_count": 45,
   "id": "b991b795-ff50-4648-9ad7-3b2dbf86bc19",
   "metadata": {},
   "outputs": [],
   "source": [
    "def get_full_article(url):\n",
    "    \"\"\"\n",
    "    Download an article from the specified URL, parse it, and return an article object.\n",
    "     :param url: The URL of the article you wish to summarize.\n",
    "     :return: An `Article` object returned by the `newspaper` library.\n",
    "    \"\"\"\n",
    "    # Check if the `newspaper` library is available\n",
    "    if 'newspaper' not in (sys.modules.keys() & globals()):  # Top import failed since it's not installed\n",
    "        print(\"\\nget_full_article() requires the `newspaper` library.\")\n",
    "        print(\"You can install it by running `python3 -m pip install newspaper3k` in your shell.\\n\")\n",
    "        return None\n",
    "    try:\n",
    "        article = newspaper.Article(url=\"%s\" % url, language='en')\n",
    "        article.download()\n",
    "        article.parse()\n",
    "    except Exception as error:\n",
    "        #logger.error(error.args[0]\n",
    "        return None\n",
    "    return article"
   ]
  },
  {
   "cell_type": "code",
   "execution_count": 51,
   "id": "3c359da8-b58c-4d8a-8de4-41ccbc0d4a0f",
   "metadata": {},
   "outputs": [],
   "source": [
    "article = get_full_article(json_resp[0]['url'])"
   ]
  },
  {
   "cell_type": "markdown",
   "id": "eaad5a3f-ec97-4b7f-8151-1e718eee746f",
   "metadata": {},
   "source": [
    "This function, when called from GNews, gives this error. Will just have to rewrite in the ETL."
   ]
  },
  {
   "cell_type": "code",
   "execution_count": 71,
   "id": "5068ffda-b31f-418c-904c-ab0ca563c630",
   "metadata": {},
   "outputs": [],
   "source": [
    "db = TinyDB('../data/test-db.json')"
   ]
  },
  {
   "cell_type": "code",
   "execution_count": 72,
   "id": "685108b6-60a4-4024-9761-cbe6f3fe2096",
   "metadata": {},
   "outputs": [],
   "source": [
    "json_resp[0]['text'] = article.text"
   ]
  },
  {
   "cell_type": "code",
   "execution_count": 73,
   "id": "961b8143-8721-48a2-ab23-a1a18252e683",
   "metadata": {},
   "outputs": [
    {
     "data": {
      "text/plain": [
       "1"
      ]
     },
     "execution_count": 73,
     "metadata": {},
     "output_type": "execute_result"
    }
   ],
   "source": [
    "db.insert(json_resp[0])"
   ]
  }
 ],
 "metadata": {
  "kernelspec": {
   "display_name": "Python 3 (ipykernel)",
   "language": "python",
   "name": "python3"
  },
  "language_info": {
   "codemirror_mode": {
    "name": "ipython",
    "version": 3
   },
   "file_extension": ".py",
   "mimetype": "text/x-python",
   "name": "python",
   "nbconvert_exporter": "python",
   "pygments_lexer": "ipython3",
   "version": "3.10.8"
  }
 },
 "nbformat": 4,
 "nbformat_minor": 5
}
